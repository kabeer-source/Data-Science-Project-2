{
 "cells": [
  {
   "cell_type": "markdown",
   "id": "6595ff15",
   "metadata": {},
   "source": [
    "# Rock Paper and Scissor\n"
   ]
  },
  {
   "cell_type": "code",
   "execution_count": null,
   "id": "8ddf0a23",
   "metadata": {},
   "outputs": [],
   "source": [
    "import random\n",
    "player1 = input(\"Enter either 'Rock' 'Paper' or 'Scissor'\")\n",
    "choices = [\"Rock\", \"Paper\", \"Scissor\"]\n",
    "player2 = random.choice(choices)\n",
    "\n",
    "if(player1==player2):\n",
    "    print(\"Both the players chose same\")\n",
    "elif(player1==\"Rock\"):\n",
    "    if(player2==\"Scissor\"):\n",
    "        print(\"Rock smashes the scissor! Player 1 Won!\")\n",
    "    else:\n",
    "        print(\"Papers grabs the rock! Player 2 Won!\")\n",
    "elif(player1==\"Paper\"):\n",
    "    if(player2==\"Scissor\"):\n",
    "        print(\"Scissor Cuts the Paper! Player 2 Won!\")\n",
    "    else:\n",
    "        print(\"Paper grabs the rock! Player 1 Won!\")\n",
    "elif(player1==\"Scissor\"):\n",
    "    if(player2==\"Rock\"):\n",
    "        print(\"Rock Smashes the Scissor! Player 2 Won!\")\n",
    "    else:\n",
    "        print(\"Scissor Cuts the Paper! Player 1 Won!\")"
   ]
  },
  {
   "cell_type": "code",
   "execution_count": null,
   "id": "c421a635",
   "metadata": {},
   "outputs": [],
   "source": []
  }
 ],
 "metadata": {
  "kernelspec": {
   "display_name": "Python 3",
   "language": "python",
   "name": "python3"
  },
  "language_info": {
   "codemirror_mode": {
    "name": "ipython",
    "version": 3
   },
   "file_extension": ".py",
   "mimetype": "text/x-python",
   "name": "python",
   "nbconvert_exporter": "python",
   "pygments_lexer": "ipython3",
   "version": "3.8.8"
  }
 },
 "nbformat": 4,
 "nbformat_minor": 5
}
